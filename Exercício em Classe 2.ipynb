{
 "cells": [
  {
   "cell_type": "code",
   "execution_count": 2,
   "metadata": {},
   "outputs": [],
   "source": [
    "from numpy import linspace, sin, cos, pi, absolute, real, imag, arctan, arctan2\n",
    "from numpy.fft import fft, fftfreq, fftshift\n",
    "import matplotlib.pyplot as plt"
   ]
  },
  {
   "cell_type": "code",
   "execution_count": 3,
   "metadata": {},
   "outputs": [],
   "source": [
    "def dft(x):\n",
    "    N = x.size\n",
    "    n = np.arange(N)\n",
    "    k = n.reshape((N, 1))\n",
    "    e = np.exp(-2j * np.pi * k * n / N)\n",
    "    return np.dot(e, x)"
   ]
  },
  {
   "cell_type": "markdown",
   "metadata": {},
   "source": [
    "# Exercício 1\n",
    "Utilizando uma função senoidal de uma única frequência $f(t)=sin(2\\pi ft)$:"
   ]
  },
  {
   "cell_type": "markdown",
   "metadata": {},
   "source": [
    "a) Criar uma função em python que realize a função de DFT"
   ]
  },
  {
   "cell_type": "code",
   "execution_count": 4,
   "metadata": {},
   "outputs": [],
   "source": [
    "def dft(x):\n",
    "    N = x.size\n",
    "    n = np.arange(N)\n",
    "    k = n.reshape((N, 1))\n",
    "    e = np.exp(-2j * np.pi * k * n / N)\n",
    "    return np.dot(e, x)"
   ]
  },
  {
   "cell_type": "markdown",
   "metadata": {},
   "source": [
    "b) Amostrar a função $f(t)$ de forma a não introduzir aliasing"
   ]
  },
  {
   "cell_type": "code",
   "execution_count": 11,
   "metadata": {},
   "outputs": [],
   "source": [
    "# Sampling rate\n",
    "fs = 32  # Hz\n",
    "\n",
    "# Time is from 0 to 1 seconds, but leave off the endpoint, so\n",
    "# that 1.0 seconds is the first sample of the *next* chunk\n",
    "length = 1  # second\n",
    "N = fs * length\n",
    "t = linspace(0, length, num=N, endpoint=False)\n",
    "\n",
    "# Generate a sinusoid at frequency f\n",
    "f1 = 8  # Hz\n",
    "a = 3.0 * sin(2 * pi * f1 * t)"
   ]
  },
  {
   "cell_type": "markdown",
   "metadata": {},
   "source": [
    "b.I) Plotar a função $f[n]$"
   ]
  },
  {
   "cell_type": "code",
   "execution_count": 12,
   "metadata": {},
   "outputs": [
    {
     "data": {
      "image/png": "[encoded data removed]",
      "text/plain": [
       "<Figure size 432x288 with 1 Axes>"
      ]
     },
     "metadata": {
      "needs_background": "light"
     },
     "output_type": "display_data"
    }
   ],
   "source": [
    "# Plot signal, showing how endpoints wrap from one chunk to the next\n",
    "plt.subplot(3, 1, 1)\n",
    "plt.plot(t, a, '.-')\n",
    "plt.plot(t, a, 'r.')  # first sample of next chunk\n",
    "plt.margins(0.1, 0.1)\n",
    "plt.xlabel('Time [s]')\n",
    "plt.show()"
   ]
  },
  {
   "cell_type": "markdown",
   "metadata": {},
   "source": [
    "c) Converter estas amostras para o domínio da frequência utilizando a função DFT"
   ]
  },
  {
   "cell_type": "code",
   "execution_count": null,
   "metadata": {},
   "outputs": [],
   "source": []
  },
  {
   "cell_type": "markdown",
   "metadata": {},
   "source": [
    "d) Utilize a função **numpy.fft.fft** para fazer o mesmo exercício"
   ]
  },
  {
   "cell_type": "code",
   "execution_count": 6,
   "metadata": {},
   "outputs": [],
   "source": [
    "## DFT\n",
    "ffta = fft(a)\n",
    "\n",
    "## real and imaginary part\n",
    "re = real(ffta)\n",
    "im = imag(ffta)"
   ]
  },
  {
   "cell_type": "markdown",
   "metadata": {},
   "source": [
    "e) Como normalizar a magnitude?"
   ]
  },
  {
   "cell_type": "code",
   "execution_count": 7,
   "metadata": {},
   "outputs": [],
   "source": [
    "## normalized amplitude\n",
    "ampl = 2 * 1/N * abs(ffta)"
   ]
  },
  {
   "cell_type": "markdown",
   "metadata": {},
   "source": [
    "d.1) Plotar $|F[k]|$"
   ]
  },
  {
   "cell_type": "code",
   "execution_count": 8,
   "metadata": {},
   "outputs": [
    {
     "name": "stderr",
     "output_type": "stream",
     "text": [
      "/opt/conda/lib/python3.7/site-packages/ipykernel_launcher.py:6: UserWarning: In Matplotlib 3.3 individual lines on a stem plot will be added as a LineCollection instead of individual lines. This significantly improves the performance of a stem plot. To remove this warning and switch to the new behaviour, set the \"use_line_collection\" keyword argument to True.\n",
      "  \n"
     ]
    },
    {
     "data": {
      "image/png": "[encoded data removed]",
      "text/plain": [
       "<Figure size 432x288 with 1 Axes>"
      ]
     },
     "metadata": {
      "needs_background": "light"
     },
     "output_type": "display_data"
    }
   ],
   "source": [
    "# FFT frequency bins\n",
    "freqs = fftfreq(N, 1/fs)\n",
    "\n",
    "# Plot shifted data on a shifted axis\n",
    "plt.subplot(3, 1, 2)\n",
    "plt.stem(fftshift(freqs), fftshift(ampl))\n",
    "plt.margins(0.1, 0.1)\n",
    "plt.xlabel('Frequency [Hz]')\n",
    "plt.show()"
   ]
  },
  {
   "cell_type": "markdown",
   "metadata": {},
   "source": [
    "d.2) Plotar fase: $atan\\frac{Im(F[k])}{Re(F[k])}$"
   ]
  },
  {
   "cell_type": "code",
   "execution_count": 9,
   "metadata": {},
   "outputs": [
    {
     "name": "stderr",
     "output_type": "stream",
     "text": [
      "/opt/conda/lib/python3.7/site-packages/ipykernel_launcher.py:2: UserWarning: In Matplotlib 3.3 individual lines on a stem plot will be added as a LineCollection instead of individual lines. This significantly improves the performance of a stem plot. To remove this warning and switch to the new behaviour, set the \"use_line_collection\" keyword argument to True.\n",
      "  \n"
     ]
    },
    {
     "data": {
      "image/png": "[encoded data removed]",
      "text/plain": [
       "<Figure size 432x288 with 1 Axes>"
      ]
     },
     "metadata": {
      "needs_background": "light"
     },
     "output_type": "display_data"
    }
   ],
   "source": [
    "plt.subplot(3, 1, 3)\n",
    "plt.stem(fftshift(freqs), fftshift(arctan2(im, re)*180/pi))\n",
    "plt.margins(0.1, 0.1)\n",
    "plt.xlabel('Frequency [Hz]')\n",
    "plt.tight_layout()\n",
    "plt.show()"
   ]
  },
  {
   "cell_type": "markdown",
   "metadata": {},
   "source": [
    "# Exercício 2\n",
    "Agora, utilizando uma função senoidal de três frequências $f(t)=sin(2\\pi f_1t) + cos(2\\pi f_2t) + sin(2\\pi f_3t)$:"
   ]
  },
  {
   "cell_type": "markdown",
   "metadata": {},
   "source": [
    "a) Amostrar a função $f(t)$ de forma a não introduzir aliasing "
   ]
  },
  {
   "cell_type": "code",
   "execution_count": 10,
   "metadata": {},
   "outputs": [],
   "source": [
    "# Sampling rate\n",
    "fs = 64  # Hz\n",
    "\n",
    "# Time is from 0 to 1 seconds, but leave off the endpoint, so\n",
    "# that 1.0 seconds is the first sample of the *next* chunk\n",
    "length = 1  # second\n",
    "N = fs * length\n",
    "t = linspace(0, length, num=N, endpoint=False)\n",
    "\n",
    "# Generate a sinusoids\n",
    "f1 = 8   # Hz\n",
    "f2 = 12  # Hz\n",
    "f3 = 20  # Hz\n",
    "a = 3.0 * sin(2 * pi * f1 * t) + 1.5 * cos(2 * pi * f2 * t) + 0.5 * sin(2 * pi * f3 * t) "
   ]
  },
  {
   "cell_type": "markdown",
   "metadata": {},
   "source": [
    "a.1) Plotar $f[n]$"
   ]
  },
  {
   "cell_type": "code",
   "execution_count": 11,
   "metadata": {},
   "outputs": [
    {
     "data": {
      "image/png": "[encoded data removed]",
      "text/plain": [
       "<Figure size 432x288 with 1 Axes>"
      ]
     },
     "metadata": {
      "needs_background": "light"
     },
     "output_type": "display_data"
    }
   ],
   "source": [
    "# Plot signal, showing how endpoints wrap from one chunk to the next\n",
    "plt.subplot(3, 1, 1)\n",
    "plt.plot(t, a, '.-')\n",
    "plt.plot(t, a, 'r.')  # first sample of next chunk\n",
    "plt.margins(0.1, 0.1)\n",
    "plt.xlabel('Time [s]')\n",
    "plt.show()"
   ]
  },
  {
   "cell_type": "markdown",
   "metadata": {},
   "source": [
    "b) Converter essas amostras para o domínio da frequência"
   ]
  },
  {
   "cell_type": "code",
   "execution_count": 12,
   "metadata": {},
   "outputs": [],
   "source": [
    "## DFT\n",
    "ffta = fft(a)\n",
    "\n",
    "## normalized amplitude\n",
    "ampl = 2 * 1/N * abs(ffta)\n",
    "\n",
    "## real and imaginary part\n",
    "re = real(ffta)\n",
    "im = imag(ffta)"
   ]
  },
  {
   "cell_type": "markdown",
   "metadata": {},
   "source": [
    "b.1) Plotar $|F[k]|$"
   ]
  },
  {
   "cell_type": "code",
   "execution_count": 13,
   "metadata": {},
   "outputs": [
    {
     "name": "stderr",
     "output_type": "stream",
     "text": [
      "/opt/conda/lib/python3.7/site-packages/ipykernel_launcher.py:6: UserWarning: In Matplotlib 3.3 individual lines on a stem plot will be added as a LineCollection instead of individual lines. This significantly improves the performance of a stem plot. To remove this warning and switch to the new behaviour, set the \"use_line_collection\" keyword argument to True.\n",
      "  \n"
     ]
    },
    {
     "data": {
      "image/png": "[encoded data removed]",
      "text/plain": [
       "<Figure size 432x288 with 1 Axes>"
      ]
     },
     "metadata": {
      "needs_background": "light"
     },
     "output_type": "display_data"
    }
   ],
   "source": [
    "# FFT frequency bins\n",
    "freqs = fftfreq(N, 1/fs)\n",
    "\n",
    "# Plot shifted data on a shifted axis\n",
    "plt.subplot(3, 1, 2)\n",
    "plt.stem(fftshift(freqs), fftshift(ampl))\n",
    "plt.margins(0.1, 0.1)\n",
    "plt.xlabel('Frequency [Hz]')\n",
    "plt.show()"
   ]
  },
  {
   "cell_type": "markdown",
   "metadata": {},
   "source": [
    "b.2) Plotar fase: $atan\\frac{Im(F[k])}{Re(F[k])}$"
   ]
  },
  {
   "cell_type": "code",
   "execution_count": 14,
   "metadata": {},
   "outputs": [
    {
     "name": "stderr",
     "output_type": "stream",
     "text": [
      "/opt/conda/lib/python3.7/site-packages/ipykernel_launcher.py:2: UserWarning: In Matplotlib 3.3 individual lines on a stem plot will be added as a LineCollection instead of individual lines. This significantly improves the performance of a stem plot. To remove this warning and switch to the new behaviour, set the \"use_line_collection\" keyword argument to True.\n",
      "  \n"
     ]
    },
    {
     "data": {
      "image/png": "[encoded data removed]",
      "text/plain": [
       "<Figure size 432x288 with 1 Axes>"
      ]
     },
     "metadata": {
      "needs_background": "light"
     },
     "output_type": "display_data"
    }
   ],
   "source": [
    "plt.subplot(3, 1, 3)\n",
    "plt.stem(fftshift(freqs), fftshift(arctan2(im, re)*180/pi))\n",
    "plt.margins(0.1, 0.1)\n",
    "plt.xlabel('Frequency [Hz]')\n",
    "plt.tight_layout()\n",
    "plt.show()"
   ]
  },
  {
   "cell_type": "code",
   "execution_count": null,
   "metadata": {},
   "outputs": [],
   "source": []
  }
 ],
 "metadata": {
  "kernelspec": {
   "display_name": "Python 3",
   "language": "python",
   "name": "python3"
  },
  "language_info": {
   "codemirror_mode": {
    "name": "ipython",
    "version": 3
   },
   "file_extension": ".py",
   "mimetype": "text/x-python",
   "name": "python",
   "nbconvert_exporter": "python",
   "pygments_lexer": "ipython3",
   "version": "3.7.3"
  }
 },
 "nbformat": 4,
 "nbformat_minor": 2
}
